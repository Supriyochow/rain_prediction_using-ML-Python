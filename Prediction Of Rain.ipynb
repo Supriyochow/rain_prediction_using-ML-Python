{
 "cells": [
  {
   "cell_type": "markdown",
   "metadata": {},
   "source": [
    "# Prediction of rainfall using K Nearest Neighbour Classification"
   ]
  },
  {
   "cell_type": "markdown",
   "metadata": {},
   "source": [
    "## 1. About Dataset\n",
    "This dataset contains about 10 years of daily weather observations from numerous Australian weather stations.\n",
    "The Target is whether it will rain or not tomorrow giving the data of today."
   ]
  },
  {
   "cell_type": "markdown",
   "metadata": {},
   "source": [
    "## 2. DataSource\n",
    "datapath = 'F:\\DataSets\\weather-dataset-rattle-package\\weatherAUS.csv'"
   ]
  },
  {
   "cell_type": "markdown",
   "metadata": {},
   "source": [
    "## 3. Loading the .csv file in the notebook using Pandas"
   ]
  },
  {
   "cell_type": "code",
   "execution_count": 1,
   "metadata": {},
   "outputs": [
    {
     "name": "stdout",
     "output_type": "stream",
     "text": [
      "         Date Location  MinTemp  MaxTemp  Rainfall  Evaporation  Sunshine  \\\n",
      "0  2008-12-01   Albury     13.4     22.9       0.6          NaN       NaN   \n",
      "1  2008-12-02   Albury      7.4     25.1       0.0          NaN       NaN   \n",
      "2  2008-12-03   Albury     12.9     25.7       0.0          NaN       NaN   \n",
      "3  2008-12-04   Albury      9.2     28.0       0.0          NaN       NaN   \n",
      "4  2008-12-05   Albury     17.5     32.3       1.0          NaN       NaN   \n",
      "\n",
      "  WindGustDir  WindGustSpeed WindDir9am  ... Humidity3pm  Pressure9am  \\\n",
      "0           W           44.0          W  ...        22.0       1007.7   \n",
      "1         WNW           44.0        NNW  ...        25.0       1010.6   \n",
      "2         WSW           46.0          W  ...        30.0       1007.6   \n",
      "3          NE           24.0         SE  ...        16.0       1017.6   \n",
      "4           W           41.0        ENE  ...        33.0       1010.8   \n",
      "\n",
      "   Pressure3pm  Cloud9am  Cloud3pm  Temp9am  Temp3pm  RainToday  RISK_MM  \\\n",
      "0       1007.1       8.0       NaN     16.9     21.8         No      0.0   \n",
      "1       1007.8       NaN       NaN     17.2     24.3         No      0.0   \n",
      "2       1008.7       NaN       2.0     21.0     23.2         No      0.0   \n",
      "3       1012.8       NaN       NaN     18.1     26.5         No      1.0   \n",
      "4       1006.0       7.0       8.0     17.8     29.7         No      0.2   \n",
      "\n",
      "   RainTomorrow  \n",
      "0            No  \n",
      "1            No  \n",
      "2            No  \n",
      "3            No  \n",
      "4            No  \n",
      "\n",
      "[5 rows x 24 columns]\n"
     ]
    }
   ],
   "source": [
    "import pandas as pd\n",
    "path=\"F:\\DataSets\\weather-dataset-rattle-package\\weatherAUS.csv\"\n",
    "rain_data=pd.read_csv(path)\n",
    "\n",
    "#viewing head datas\n",
    "print(rain_data.head())"
   ]
  },
  {
   "cell_type": "markdown",
   "metadata": {},
   "source": [
    "## 4. Deleting unimportant data columns\n",
    "We will delete the Date column and the Risk_MM column in this dataset"
   ]
  },
  {
   "cell_type": "code",
   "execution_count": 2,
   "metadata": {},
   "outputs": [],
   "source": [
    "rain_data.drop(['Date','RISK_MM','WindGustDir','WindDir9am','WindDir3pm'],axis=1, inplace=True)"
   ]
  },
  {
   "cell_type": "code",
   "execution_count": 3,
   "metadata": {},
   "outputs": [
    {
     "name": "stdout",
     "output_type": "stream",
     "text": [
      "  Location  MinTemp  MaxTemp  Rainfall  Evaporation  Sunshine  WindGustSpeed  \\\n",
      "0   Albury     13.4     22.9       0.6          NaN       NaN           44.0   \n",
      "1   Albury      7.4     25.1       0.0          NaN       NaN           44.0   \n",
      "2   Albury     12.9     25.7       0.0          NaN       NaN           46.0   \n",
      "3   Albury      9.2     28.0       0.0          NaN       NaN           24.0   \n",
      "4   Albury     17.5     32.3       1.0          NaN       NaN           41.0   \n",
      "\n",
      "   WindSpeed9am  WindSpeed3pm  Humidity9am  Humidity3pm  Pressure9am  \\\n",
      "0          20.0          24.0         71.0         22.0       1007.7   \n",
      "1           4.0          22.0         44.0         25.0       1010.6   \n",
      "2          19.0          26.0         38.0         30.0       1007.6   \n",
      "3          11.0           9.0         45.0         16.0       1017.6   \n",
      "4           7.0          20.0         82.0         33.0       1010.8   \n",
      "\n",
      "   Pressure3pm  Cloud9am  Cloud3pm  Temp9am  Temp3pm RainToday RainTomorrow  \n",
      "0       1007.1       8.0       NaN     16.9     21.8        No           No  \n",
      "1       1007.8       NaN       NaN     17.2     24.3        No           No  \n",
      "2       1008.7       NaN       2.0     21.0     23.2        No           No  \n",
      "3       1012.8       NaN       NaN     18.1     26.5        No           No  \n",
      "4       1006.0       7.0       8.0     17.8     29.7        No           No  \n"
     ]
    }
   ],
   "source": [
    "#Printing the data\n",
    "print(rain_data.head())"
   ]
  },
  {
   "cell_type": "markdown",
   "metadata": {},
   "source": [
    "## 5. Modifying the data and calculating the average of 9am and 3pm data"
   ]
  },
  {
   "cell_type": "markdown",
   "metadata": {},
   "source": [
    "### a. Calculating the average of WindSpeed9am and WindSpeed3pm"
   ]
  },
  {
   "cell_type": "code",
   "execution_count": 4,
   "metadata": {},
   "outputs": [],
   "source": [
    "rain_data['WindSpeed']=rain_data[['WindSpeed9am','WindSpeed3pm']].mean(axis=1)"
   ]
  },
  {
   "cell_type": "code",
   "execution_count": 5,
   "metadata": {},
   "outputs": [
    {
     "name": "stdout",
     "output_type": "stream",
     "text": [
      "  Location  MinTemp  MaxTemp  Rainfall  Evaporation  Sunshine  WindGustSpeed  \\\n",
      "0   Albury     13.4     22.9       0.6          NaN       NaN           44.0   \n",
      "1   Albury      7.4     25.1       0.0          NaN       NaN           44.0   \n",
      "2   Albury     12.9     25.7       0.0          NaN       NaN           46.0   \n",
      "3   Albury      9.2     28.0       0.0          NaN       NaN           24.0   \n",
      "4   Albury     17.5     32.3       1.0          NaN       NaN           41.0   \n",
      "\n",
      "   WindSpeed9am  WindSpeed3pm  Humidity9am  Humidity3pm  Pressure9am  \\\n",
      "0          20.0          24.0         71.0         22.0       1007.7   \n",
      "1           4.0          22.0         44.0         25.0       1010.6   \n",
      "2          19.0          26.0         38.0         30.0       1007.6   \n",
      "3          11.0           9.0         45.0         16.0       1017.6   \n",
      "4           7.0          20.0         82.0         33.0       1010.8   \n",
      "\n",
      "   Pressure3pm  Cloud9am  Cloud3pm  Temp9am  Temp3pm RainToday RainTomorrow  \\\n",
      "0       1007.1       8.0       NaN     16.9     21.8        No           No   \n",
      "1       1007.8       NaN       NaN     17.2     24.3        No           No   \n",
      "2       1008.7       NaN       2.0     21.0     23.2        No           No   \n",
      "3       1012.8       NaN       NaN     18.1     26.5        No           No   \n",
      "4       1006.0       7.0       8.0     17.8     29.7        No           No   \n",
      "\n",
      "   WindSpeed  \n",
      "0       22.0  \n",
      "1       13.0  \n",
      "2       22.5  \n",
      "3       10.0  \n",
      "4       13.5  \n"
     ]
    }
   ],
   "source": [
    "#printing the data\n",
    "print(rain_data.head())"
   ]
  },
  {
   "cell_type": "code",
   "execution_count": 6,
   "metadata": {},
   "outputs": [],
   "source": [
    "#deleting WindSpeed9am and WindSpeed3pm\n",
    "rain_data.drop(['WindSpeed9am','WindSpeed3pm'], axis=1, inplace=True)"
   ]
  },
  {
   "cell_type": "code",
   "execution_count": 7,
   "metadata": {},
   "outputs": [
    {
     "name": "stdout",
     "output_type": "stream",
     "text": [
      "  Location  MinTemp  MaxTemp  Rainfall  Evaporation  Sunshine  WindGustSpeed  \\\n",
      "0   Albury     13.4     22.9       0.6          NaN       NaN           44.0   \n",
      "1   Albury      7.4     25.1       0.0          NaN       NaN           44.0   \n",
      "2   Albury     12.9     25.7       0.0          NaN       NaN           46.0   \n",
      "3   Albury      9.2     28.0       0.0          NaN       NaN           24.0   \n",
      "4   Albury     17.5     32.3       1.0          NaN       NaN           41.0   \n",
      "\n",
      "   Humidity9am  Humidity3pm  Pressure9am  Pressure3pm  Cloud9am  Cloud3pm  \\\n",
      "0         71.0         22.0       1007.7       1007.1       8.0       NaN   \n",
      "1         44.0         25.0       1010.6       1007.8       NaN       NaN   \n",
      "2         38.0         30.0       1007.6       1008.7       NaN       2.0   \n",
      "3         45.0         16.0       1017.6       1012.8       NaN       NaN   \n",
      "4         82.0         33.0       1010.8       1006.0       7.0       8.0   \n",
      "\n",
      "   Temp9am  Temp3pm RainToday RainTomorrow  WindSpeed  \n",
      "0     16.9     21.8        No           No       22.0  \n",
      "1     17.2     24.3        No           No       13.0  \n",
      "2     21.0     23.2        No           No       22.5  \n",
      "3     18.1     26.5        No           No       10.0  \n",
      "4     17.8     29.7        No           No       13.5  \n"
     ]
    }
   ],
   "source": [
    "#printing the modified datsframe\n",
    "print(rain_data.head())"
   ]
  },
  {
   "cell_type": "markdown",
   "metadata": {},
   "source": [
    "### b. Calculating the average of Humidity9am and Humidity3pm"
   ]
  },
  {
   "cell_type": "code",
   "execution_count": 8,
   "metadata": {},
   "outputs": [],
   "source": [
    "rain_data['Humidity']=rain_data[['Humidity9am','Humidity3pm']].mean(axis=1)"
   ]
  },
  {
   "cell_type": "code",
   "execution_count": 9,
   "metadata": {},
   "outputs": [
    {
     "name": "stdout",
     "output_type": "stream",
     "text": [
      "  Location  MinTemp  MaxTemp  Rainfall  Evaporation  Sunshine  WindGustSpeed  \\\n",
      "0   Albury     13.4     22.9       0.6          NaN       NaN           44.0   \n",
      "1   Albury      7.4     25.1       0.0          NaN       NaN           44.0   \n",
      "2   Albury     12.9     25.7       0.0          NaN       NaN           46.0   \n",
      "3   Albury      9.2     28.0       0.0          NaN       NaN           24.0   \n",
      "4   Albury     17.5     32.3       1.0          NaN       NaN           41.0   \n",
      "\n",
      "   Humidity9am  Humidity3pm  Pressure9am  Pressure3pm  Cloud9am  Cloud3pm  \\\n",
      "0         71.0         22.0       1007.7       1007.1       8.0       NaN   \n",
      "1         44.0         25.0       1010.6       1007.8       NaN       NaN   \n",
      "2         38.0         30.0       1007.6       1008.7       NaN       2.0   \n",
      "3         45.0         16.0       1017.6       1012.8       NaN       NaN   \n",
      "4         82.0         33.0       1010.8       1006.0       7.0       8.0   \n",
      "\n",
      "   Temp9am  Temp3pm RainToday RainTomorrow  WindSpeed  Humidity  \n",
      "0     16.9     21.8        No           No       22.0      46.5  \n",
      "1     17.2     24.3        No           No       13.0      34.5  \n",
      "2     21.0     23.2        No           No       22.5      34.0  \n",
      "3     18.1     26.5        No           No       10.0      30.5  \n",
      "4     17.8     29.7        No           No       13.5      57.5  \n"
     ]
    }
   ],
   "source": [
    "#printing the data\n",
    "print(rain_data.head())"
   ]
  },
  {
   "cell_type": "code",
   "execution_count": 10,
   "metadata": {},
   "outputs": [],
   "source": [
    "#deleting Humidity9am and Humidity3pm\n",
    "rain_data.drop(['Humidity9am','Humidity3pm'], axis=1, inplace=True)"
   ]
  },
  {
   "cell_type": "code",
   "execution_count": 11,
   "metadata": {},
   "outputs": [
    {
     "name": "stdout",
     "output_type": "stream",
     "text": [
      "  Location  MinTemp  MaxTemp  Rainfall  Evaporation  Sunshine  WindGustSpeed  \\\n",
      "0   Albury     13.4     22.9       0.6          NaN       NaN           44.0   \n",
      "1   Albury      7.4     25.1       0.0          NaN       NaN           44.0   \n",
      "2   Albury     12.9     25.7       0.0          NaN       NaN           46.0   \n",
      "3   Albury      9.2     28.0       0.0          NaN       NaN           24.0   \n",
      "4   Albury     17.5     32.3       1.0          NaN       NaN           41.0   \n",
      "\n",
      "   Pressure9am  Pressure3pm  Cloud9am  Cloud3pm  Temp9am  Temp3pm RainToday  \\\n",
      "0       1007.7       1007.1       8.0       NaN     16.9     21.8        No   \n",
      "1       1010.6       1007.8       NaN       NaN     17.2     24.3        No   \n",
      "2       1007.6       1008.7       NaN       2.0     21.0     23.2        No   \n",
      "3       1017.6       1012.8       NaN       NaN     18.1     26.5        No   \n",
      "4       1010.8       1006.0       7.0       8.0     17.8     29.7        No   \n",
      "\n",
      "  RainTomorrow  WindSpeed  Humidity  \n",
      "0           No       22.0      46.5  \n",
      "1           No       13.0      34.5  \n",
      "2           No       22.5      34.0  \n",
      "3           No       10.0      30.5  \n",
      "4           No       13.5      57.5  \n"
     ]
    }
   ],
   "source": [
    "#printing the modified datsframe\n",
    "print(rain_data.head())"
   ]
  },
  {
   "cell_type": "markdown",
   "metadata": {},
   "source": [
    "### c. Calculating the average of Pressure9am and Pressure3pm"
   ]
  },
  {
   "cell_type": "code",
   "execution_count": 12,
   "metadata": {},
   "outputs": [],
   "source": [
    "rain_data['Pressure']=rain_data[['Pressure9am','Pressure3pm']].mean(axis=1)"
   ]
  },
  {
   "cell_type": "code",
   "execution_count": 13,
   "metadata": {},
   "outputs": [
    {
     "name": "stdout",
     "output_type": "stream",
     "text": [
      "  Location  MinTemp  MaxTemp  Rainfall  Evaporation  Sunshine  WindGustSpeed  \\\n",
      "0   Albury     13.4     22.9       0.6          NaN       NaN           44.0   \n",
      "1   Albury      7.4     25.1       0.0          NaN       NaN           44.0   \n",
      "2   Albury     12.9     25.7       0.0          NaN       NaN           46.0   \n",
      "3   Albury      9.2     28.0       0.0          NaN       NaN           24.0   \n",
      "4   Albury     17.5     32.3       1.0          NaN       NaN           41.0   \n",
      "\n",
      "   Pressure9am  Pressure3pm  Cloud9am  Cloud3pm  Temp9am  Temp3pm RainToday  \\\n",
      "0       1007.7       1007.1       8.0       NaN     16.9     21.8        No   \n",
      "1       1010.6       1007.8       NaN       NaN     17.2     24.3        No   \n",
      "2       1007.6       1008.7       NaN       2.0     21.0     23.2        No   \n",
      "3       1017.6       1012.8       NaN       NaN     18.1     26.5        No   \n",
      "4       1010.8       1006.0       7.0       8.0     17.8     29.7        No   \n",
      "\n",
      "  RainTomorrow  WindSpeed  Humidity  Pressure  \n",
      "0           No       22.0      46.5   1007.40  \n",
      "1           No       13.0      34.5   1009.20  \n",
      "2           No       22.5      34.0   1008.15  \n",
      "3           No       10.0      30.5   1015.20  \n",
      "4           No       13.5      57.5   1008.40  \n"
     ]
    }
   ],
   "source": [
    "#printing the data\n",
    "print(rain_data.head())"
   ]
  },
  {
   "cell_type": "code",
   "execution_count": 14,
   "metadata": {},
   "outputs": [],
   "source": [
    "#deleting Pressure9am and Pressure3pm\n",
    "rain_data.drop(['Pressure9am','Pressure3pm'], axis=1, inplace=True)"
   ]
  },
  {
   "cell_type": "code",
   "execution_count": 15,
   "metadata": {},
   "outputs": [
    {
     "name": "stdout",
     "output_type": "stream",
     "text": [
      "  Location  MinTemp  MaxTemp  Rainfall  Evaporation  Sunshine  WindGustSpeed  \\\n",
      "0   Albury     13.4     22.9       0.6          NaN       NaN           44.0   \n",
      "1   Albury      7.4     25.1       0.0          NaN       NaN           44.0   \n",
      "2   Albury     12.9     25.7       0.0          NaN       NaN           46.0   \n",
      "3   Albury      9.2     28.0       0.0          NaN       NaN           24.0   \n",
      "4   Albury     17.5     32.3       1.0          NaN       NaN           41.0   \n",
      "\n",
      "   Cloud9am  Cloud3pm  Temp9am  Temp3pm RainToday RainTomorrow  WindSpeed  \\\n",
      "0       8.0       NaN     16.9     21.8        No           No       22.0   \n",
      "1       NaN       NaN     17.2     24.3        No           No       13.0   \n",
      "2       NaN       2.0     21.0     23.2        No           No       22.5   \n",
      "3       NaN       NaN     18.1     26.5        No           No       10.0   \n",
      "4       7.0       8.0     17.8     29.7        No           No       13.5   \n",
      "\n",
      "   Humidity  Pressure  \n",
      "0      46.5   1007.40  \n",
      "1      34.5   1009.20  \n",
      "2      34.0   1008.15  \n",
      "3      30.5   1015.20  \n",
      "4      57.5   1008.40  \n"
     ]
    }
   ],
   "source": [
    "#printing the modified datsframe\n",
    "print(rain_data.head())"
   ]
  },
  {
   "cell_type": "markdown",
   "metadata": {},
   "source": [
    "### d.Calculating the average of Cloud9am and Cloud3pm"
   ]
  },
  {
   "cell_type": "code",
   "execution_count": 16,
   "metadata": {},
   "outputs": [],
   "source": [
    "rain_data['Cloud']=rain_data[['Cloud9am','Cloud3pm']].mean(axis=1)"
   ]
  },
  {
   "cell_type": "code",
   "execution_count": 17,
   "metadata": {},
   "outputs": [
    {
     "name": "stdout",
     "output_type": "stream",
     "text": [
      "  Location  MinTemp  MaxTemp  Rainfall  Evaporation  Sunshine  WindGustSpeed  \\\n",
      "0   Albury     13.4     22.9       0.6          NaN       NaN           44.0   \n",
      "1   Albury      7.4     25.1       0.0          NaN       NaN           44.0   \n",
      "2   Albury     12.9     25.7       0.0          NaN       NaN           46.0   \n",
      "3   Albury      9.2     28.0       0.0          NaN       NaN           24.0   \n",
      "4   Albury     17.5     32.3       1.0          NaN       NaN           41.0   \n",
      "\n",
      "   Cloud9am  Cloud3pm  Temp9am  Temp3pm RainToday RainTomorrow  WindSpeed  \\\n",
      "0       8.0       NaN     16.9     21.8        No           No       22.0   \n",
      "1       NaN       NaN     17.2     24.3        No           No       13.0   \n",
      "2       NaN       2.0     21.0     23.2        No           No       22.5   \n",
      "3       NaN       NaN     18.1     26.5        No           No       10.0   \n",
      "4       7.0       8.0     17.8     29.7        No           No       13.5   \n",
      "\n",
      "   Humidity  Pressure  Cloud  \n",
      "0      46.5   1007.40    8.0  \n",
      "1      34.5   1009.20    NaN  \n",
      "2      34.0   1008.15    2.0  \n",
      "3      30.5   1015.20    NaN  \n",
      "4      57.5   1008.40    7.5  \n"
     ]
    }
   ],
   "source": [
    "#printing the data\n",
    "print(rain_data.head())"
   ]
  },
  {
   "cell_type": "code",
   "execution_count": 18,
   "metadata": {},
   "outputs": [],
   "source": [
    "#deleting Cloud9am and Cloud3pm\n",
    "rain_data.drop(['Cloud9am','Cloud3pm'], axis=1, inplace=True)"
   ]
  },
  {
   "cell_type": "code",
   "execution_count": 19,
   "metadata": {},
   "outputs": [
    {
     "name": "stdout",
     "output_type": "stream",
     "text": [
      "  Location  MinTemp  MaxTemp  Rainfall  Evaporation  Sunshine  WindGustSpeed  \\\n",
      "0   Albury     13.4     22.9       0.6          NaN       NaN           44.0   \n",
      "1   Albury      7.4     25.1       0.0          NaN       NaN           44.0   \n",
      "2   Albury     12.9     25.7       0.0          NaN       NaN           46.0   \n",
      "3   Albury      9.2     28.0       0.0          NaN       NaN           24.0   \n",
      "4   Albury     17.5     32.3       1.0          NaN       NaN           41.0   \n",
      "\n",
      "   Temp9am  Temp3pm RainToday RainTomorrow  WindSpeed  Humidity  Pressure  \\\n",
      "0     16.9     21.8        No           No       22.0      46.5   1007.40   \n",
      "1     17.2     24.3        No           No       13.0      34.5   1009.20   \n",
      "2     21.0     23.2        No           No       22.5      34.0   1008.15   \n",
      "3     18.1     26.5        No           No       10.0      30.5   1015.20   \n",
      "4     17.8     29.7        No           No       13.5      57.5   1008.40   \n",
      "\n",
      "   Cloud  \n",
      "0    8.0  \n",
      "1    NaN  \n",
      "2    2.0  \n",
      "3    NaN  \n",
      "4    7.5  \n"
     ]
    }
   ],
   "source": [
    "#printing the modified datsframe\n",
    "print(rain_data.head())"
   ]
  },
  {
   "cell_type": "markdown",
   "metadata": {},
   "source": [
    "### e. deleting Temp9am and Temp3pm"
   ]
  },
  {
   "cell_type": "code",
   "execution_count": 20,
   "metadata": {},
   "outputs": [],
   "source": [
    "rain_data.drop(['Temp9am','Temp3pm'], axis=1, inplace=True)"
   ]
  },
  {
   "cell_type": "code",
   "execution_count": 21,
   "metadata": {},
   "outputs": [
    {
     "name": "stdout",
     "output_type": "stream",
     "text": [
      "  Location  MinTemp  MaxTemp  Rainfall  Evaporation  Sunshine  WindGustSpeed  \\\n",
      "0   Albury     13.4     22.9       0.6          NaN       NaN           44.0   \n",
      "1   Albury      7.4     25.1       0.0          NaN       NaN           44.0   \n",
      "2   Albury     12.9     25.7       0.0          NaN       NaN           46.0   \n",
      "3   Albury      9.2     28.0       0.0          NaN       NaN           24.0   \n",
      "4   Albury     17.5     32.3       1.0          NaN       NaN           41.0   \n",
      "\n",
      "  RainToday RainTomorrow  WindSpeed  Humidity  Pressure  Cloud  \n",
      "0        No           No       22.0      46.5   1007.40    8.0  \n",
      "1        No           No       13.0      34.5   1009.20    NaN  \n",
      "2        No           No       22.5      34.0   1008.15    2.0  \n",
      "3        No           No       10.0      30.5   1015.20    NaN  \n",
      "4        No           No       13.5      57.5   1008.40    7.5  \n"
     ]
    }
   ],
   "source": [
    "#printing the modified datsframe\n",
    "print(rain_data.head())"
   ]
  },
  {
   "cell_type": "markdown",
   "metadata": {},
   "source": [
    "## 6. Deleting all the NaN values from the dataframe\n"
   ]
  },
  {
   "cell_type": "code",
   "execution_count": 22,
   "metadata": {},
   "outputs": [
    {
     "name": "stdout",
     "output_type": "stream",
     "text": [
      "     Location  MinTemp  MaxTemp  Rainfall  Evaporation  Sunshine  \\\n",
      "5939    Cobar     17.9     35.2       0.0         12.0      12.3   \n",
      "5940    Cobar     18.4     28.9       0.0         14.8      13.0   \n",
      "5941    Cobar     15.5     34.1       0.0         12.6      13.3   \n",
      "5942    Cobar     19.4     37.6       0.0         10.8      10.6   \n",
      "5943    Cobar     21.9     38.4       0.0         11.4      12.2   \n",
      "\n",
      "      WindGustSpeed RainToday RainTomorrow  WindSpeed  Humidity  Pressure  \\\n",
      "5939           48.0        No           No       13.0      16.5   1005.35   \n",
      "5940           37.0        No           No       19.0      19.0   1012.50   \n",
      "5941           30.0        No           No        7.0       7.0   1011.60   \n",
      "5942           46.0        No           No       22.5      32.0   1010.75   \n",
      "5943           31.0        No           No        6.0      29.5   1010.90   \n",
      "\n",
      "      Cloud  \n",
      "5939    3.5  \n",
      "5940    1.0  \n",
      "5941    1.0  \n",
      "5942    3.5  \n",
      "5943    3.0  \n",
      "(60029, 13)\n"
     ]
    }
   ],
   "source": [
    "for col in rain_data.columns:\n",
    "    rain_data = rain_data[pd.notnull(rain_data[col])]\n",
    "\n",
    "print(rain_data.head())\n",
    "print(rain_data.shape)"
   ]
  },
  {
   "cell_type": "markdown",
   "metadata": {},
   "source": [
    "## 7. Changing the values of RainToday and RainTommorow into binary representation"
   ]
  },
  {
   "cell_type": "code",
   "execution_count": 23,
   "metadata": {},
   "outputs": [],
   "source": [
    "#First for the RainToday\n",
    "rain_data['RainToday'].replace({\"No\":0,\"Yes\":1}, inplace=True)"
   ]
  },
  {
   "cell_type": "code",
   "execution_count": 24,
   "metadata": {},
   "outputs": [
    {
     "name": "stdout",
     "output_type": "stream",
     "text": [
      "     Location  MinTemp  MaxTemp  Rainfall  Evaporation  Sunshine  \\\n",
      "5939    Cobar     17.9     35.2       0.0         12.0      12.3   \n",
      "5940    Cobar     18.4     28.9       0.0         14.8      13.0   \n",
      "5941    Cobar     15.5     34.1       0.0         12.6      13.3   \n",
      "5942    Cobar     19.4     37.6       0.0         10.8      10.6   \n",
      "5943    Cobar     21.9     38.4       0.0         11.4      12.2   \n",
      "\n",
      "      WindGustSpeed  RainToday RainTomorrow  WindSpeed  Humidity  Pressure  \\\n",
      "5939           48.0          0           No       13.0      16.5   1005.35   \n",
      "5940           37.0          0           No       19.0      19.0   1012.50   \n",
      "5941           30.0          0           No        7.0       7.0   1011.60   \n",
      "5942           46.0          0           No       22.5      32.0   1010.75   \n",
      "5943           31.0          0           No        6.0      29.5   1010.90   \n",
      "\n",
      "      Cloud  \n",
      "5939    3.5  \n",
      "5940    1.0  \n",
      "5941    1.0  \n",
      "5942    3.5  \n",
      "5943    3.0  \n"
     ]
    }
   ],
   "source": [
    "#printing the modified values\n",
    "\n",
    "print(rain_data.head())"
   ]
  },
  {
   "cell_type": "code",
   "execution_count": 25,
   "metadata": {},
   "outputs": [],
   "source": [
    "#Second for the RainTomorrw\n",
    "rain_data['RainTomorrow'].replace({\"No\":0,\"Yes\":1}, inplace=True)"
   ]
  },
  {
   "cell_type": "code",
   "execution_count": 26,
   "metadata": {},
   "outputs": [
    {
     "name": "stdout",
     "output_type": "stream",
     "text": [
      "     Location  MinTemp  MaxTemp  Rainfall  Evaporation  Sunshine  \\\n",
      "5939    Cobar     17.9     35.2       0.0         12.0      12.3   \n",
      "5940    Cobar     18.4     28.9       0.0         14.8      13.0   \n",
      "5941    Cobar     15.5     34.1       0.0         12.6      13.3   \n",
      "5942    Cobar     19.4     37.6       0.0         10.8      10.6   \n",
      "5943    Cobar     21.9     38.4       0.0         11.4      12.2   \n",
      "\n",
      "      WindGustSpeed  RainToday  RainTomorrow  WindSpeed  Humidity  Pressure  \\\n",
      "5939           48.0          0             0       13.0      16.5   1005.35   \n",
      "5940           37.0          0             0       19.0      19.0   1012.50   \n",
      "5941           30.0          0             0        7.0       7.0   1011.60   \n",
      "5942           46.0          0             0       22.5      32.0   1010.75   \n",
      "5943           31.0          0             0        6.0      29.5   1010.90   \n",
      "\n",
      "      Cloud  \n",
      "5939    3.5  \n",
      "5940    1.0  \n",
      "5941    1.0  \n",
      "5942    3.5  \n",
      "5943    3.0  \n"
     ]
    }
   ],
   "source": [
    "#printing the modified values\n",
    "\n",
    "print(rain_data.head())"
   ]
  },
  {
   "cell_type": "code",
   "execution_count": 27,
   "metadata": {},
   "outputs": [
    {
     "name": "stdout",
     "output_type": "stream",
     "text": [
      "5939      0\n",
      "5940      0\n",
      "5941      0\n",
      "5942      0\n",
      "5943      0\n",
      "5944      0\n",
      "5945      0\n",
      "5946      0\n",
      "5947      0\n",
      "5948      0\n",
      "5949      0\n",
      "5950      0\n",
      "5951      0\n",
      "5952      0\n",
      "5953      0\n",
      "5954      0\n",
      "5955      0\n",
      "5956      0\n",
      "5957      0\n",
      "5958      1\n",
      "5959      0\n",
      "5960      0\n",
      "5961      1\n",
      "5962      1\n",
      "5963      0\n",
      "5964      0\n",
      "5965      0\n",
      "5966      0\n",
      "5967      0\n",
      "5968      0\n",
      "         ..\n",
      "139083    0\n",
      "139084    0\n",
      "139085    0\n",
      "139086    0\n",
      "139087    0\n",
      "139088    0\n",
      "139089    0\n",
      "139090    0\n",
      "139091    0\n",
      "139092    0\n",
      "139093    0\n",
      "139094    0\n",
      "139095    0\n",
      "139096    0\n",
      "139097    0\n",
      "139098    0\n",
      "139099    0\n",
      "139100    0\n",
      "139101    0\n",
      "139102    0\n",
      "139103    0\n",
      "139104    0\n",
      "139105    0\n",
      "139106    0\n",
      "139107    0\n",
      "139108    0\n",
      "139109    0\n",
      "139110    0\n",
      "139111    0\n",
      "139112    0\n",
      "Name: RainToday, Length: 60029, dtype: int64\n"
     ]
    }
   ],
   "source": [
    "print(rain_data['RainToday'])"
   ]
  },
  {
   "cell_type": "code",
   "execution_count": 28,
   "metadata": {},
   "outputs": [
    {
     "name": "stdout",
     "output_type": "stream",
     "text": [
      "5939      0\n",
      "5940      0\n",
      "5941      0\n",
      "5942      0\n",
      "5943      0\n",
      "5944      0\n",
      "5945      0\n",
      "5946      0\n",
      "5947      0\n",
      "5948      0\n",
      "5949      0\n",
      "5950      0\n",
      "5951      0\n",
      "5952      0\n",
      "5953      0\n",
      "5954      0\n",
      "5955      0\n",
      "5956      0\n",
      "5957      1\n",
      "5958      0\n",
      "5959      0\n",
      "5960      1\n",
      "5961      1\n",
      "5962      0\n",
      "5963      0\n",
      "5964      0\n",
      "5965      0\n",
      "5966      0\n",
      "5967      0\n",
      "5968      0\n",
      "         ..\n",
      "139083    0\n",
      "139084    0\n",
      "139085    0\n",
      "139086    0\n",
      "139087    0\n",
      "139088    0\n",
      "139089    0\n",
      "139090    0\n",
      "139091    0\n",
      "139092    0\n",
      "139093    0\n",
      "139094    0\n",
      "139095    0\n",
      "139096    0\n",
      "139097    0\n",
      "139098    0\n",
      "139099    0\n",
      "139100    0\n",
      "139101    0\n",
      "139102    0\n",
      "139103    0\n",
      "139104    0\n",
      "139105    0\n",
      "139106    0\n",
      "139107    0\n",
      "139108    0\n",
      "139109    0\n",
      "139110    0\n",
      "139111    0\n",
      "139112    0\n",
      "Name: RainTomorrow, Length: 60029, dtype: int64\n"
     ]
    }
   ],
   "source": [
    "print(rain_data['RainTomorrow'])"
   ]
  },
  {
   "cell_type": "code",
   "execution_count": 29,
   "metadata": {},
   "outputs": [],
   "source": [
    "#saving the data\n",
    "rain_data.to_csv(\"MainData\")"
   ]
  },
  {
   "cell_type": "markdown",
   "metadata": {},
   "source": [
    "## 8.Deleting the Location column"
   ]
  },
  {
   "cell_type": "code",
   "execution_count": 30,
   "metadata": {},
   "outputs": [],
   "source": [
    "rain_data.drop(['Location'], axis=1, inplace=True)"
   ]
  },
  {
   "cell_type": "code",
   "execution_count": 31,
   "metadata": {},
   "outputs": [
    {
     "name": "stdout",
     "output_type": "stream",
     "text": [
      "      MinTemp  MaxTemp  Rainfall  Evaporation  Sunshine  WindGustSpeed  \\\n",
      "5939     17.9     35.2       0.0         12.0      12.3           48.0   \n",
      "5940     18.4     28.9       0.0         14.8      13.0           37.0   \n",
      "5941     15.5     34.1       0.0         12.6      13.3           30.0   \n",
      "5942     19.4     37.6       0.0         10.8      10.6           46.0   \n",
      "5943     21.9     38.4       0.0         11.4      12.2           31.0   \n",
      "\n",
      "      RainToday  RainTomorrow  WindSpeed  Humidity  Pressure  Cloud  \n",
      "5939          0             0       13.0      16.5   1005.35    3.5  \n",
      "5940          0             0       19.0      19.0   1012.50    1.0  \n",
      "5941          0             0        7.0       7.0   1011.60    1.0  \n",
      "5942          0             0       22.5      32.0   1010.75    3.5  \n",
      "5943          0             0        6.0      29.5   1010.90    3.0  \n"
     ]
    }
   ],
   "source": [
    "#printing the modified datsframe\n",
    "print(rain_data.head())"
   ]
  },
  {
   "cell_type": "markdown",
   "metadata": {},
   "source": [
    "## 9.Taking the RainTomorrow column as Target Data"
   ]
  },
  {
   "cell_type": "code",
   "execution_count": 32,
   "metadata": {},
   "outputs": [
    {
     "name": "stdout",
     "output_type": "stream",
     "text": [
      "5939      0\n",
      "5940      0\n",
      "5941      0\n",
      "5942      0\n",
      "5943      0\n",
      "5944      0\n",
      "5945      0\n",
      "5946      0\n",
      "5947      0\n",
      "5948      0\n",
      "5949      0\n",
      "5950      0\n",
      "5951      0\n",
      "5952      0\n",
      "5953      0\n",
      "5954      0\n",
      "5955      0\n",
      "5956      0\n",
      "5957      1\n",
      "5958      0\n",
      "5959      0\n",
      "5960      1\n",
      "5961      1\n",
      "5962      0\n",
      "5963      0\n",
      "5964      0\n",
      "5965      0\n",
      "5966      0\n",
      "5967      0\n",
      "5968      0\n",
      "         ..\n",
      "139083    0\n",
      "139084    0\n",
      "139085    0\n",
      "139086    0\n",
      "139087    0\n",
      "139088    0\n",
      "139089    0\n",
      "139090    0\n",
      "139091    0\n",
      "139092    0\n",
      "139093    0\n",
      "139094    0\n",
      "139095    0\n",
      "139096    0\n",
      "139097    0\n",
      "139098    0\n",
      "139099    0\n",
      "139100    0\n",
      "139101    0\n",
      "139102    0\n",
      "139103    0\n",
      "139104    0\n",
      "139105    0\n",
      "139106    0\n",
      "139107    0\n",
      "139108    0\n",
      "139109    0\n",
      "139110    0\n",
      "139111    0\n",
      "139112    0\n",
      "Name: RainTomorrow, Length: 60029, dtype: int64\n"
     ]
    }
   ],
   "source": [
    "target_data=rain_data['RainTomorrow']\n",
    "print(target_data)"
   ]
  },
  {
   "cell_type": "markdown",
   "metadata": {},
   "source": [
    "## 10. Deleting the RainTomorrow column"
   ]
  },
  {
   "cell_type": "code",
   "execution_count": 33,
   "metadata": {},
   "outputs": [],
   "source": [
    "rain_data.drop(['RainTomorrow'], axis=1, inplace=True)"
   ]
  },
  {
   "cell_type": "code",
   "execution_count": 34,
   "metadata": {},
   "outputs": [
    {
     "name": "stdout",
     "output_type": "stream",
     "text": [
      "      MinTemp  MaxTemp  Rainfall  Evaporation  Sunshine  WindGustSpeed  \\\n",
      "5939     17.9     35.2       0.0         12.0      12.3           48.0   \n",
      "5940     18.4     28.9       0.0         14.8      13.0           37.0   \n",
      "5941     15.5     34.1       0.0         12.6      13.3           30.0   \n",
      "5942     19.4     37.6       0.0         10.8      10.6           46.0   \n",
      "5943     21.9     38.4       0.0         11.4      12.2           31.0   \n",
      "\n",
      "      RainToday  WindSpeed  Humidity  Pressure  Cloud  \n",
      "5939          0       13.0      16.5   1005.35    3.5  \n",
      "5940          0       19.0      19.0   1012.50    1.0  \n",
      "5941          0        7.0       7.0   1011.60    1.0  \n",
      "5942          0       22.5      32.0   1010.75    3.5  \n",
      "5943          0        6.0      29.5   1010.90    3.0  \n"
     ]
    }
   ],
   "source": [
    "#printing the modified datsframe\n",
    "print(rain_data.head())"
   ]
  },
  {
   "cell_type": "markdown",
   "metadata": {},
   "source": [
    "## 11.Converting the target_data to numpy array\n"
   ]
  },
  {
   "cell_type": "code",
   "execution_count": 35,
   "metadata": {},
   "outputs": [],
   "source": [
    "target=target_data.to_numpy()"
   ]
  },
  {
   "cell_type": "code",
   "execution_count": 36,
   "metadata": {},
   "outputs": [
    {
     "name": "stdout",
     "output_type": "stream",
     "text": [
      "[0 0 0 ... 0 0 0]\n"
     ]
    }
   ],
   "source": [
    "print(target)"
   ]
  },
  {
   "cell_type": "markdown",
   "metadata": {},
   "source": [
    "## 12.Converting the rain_data to numpy"
   ]
  },
  {
   "cell_type": "code",
   "execution_count": 37,
   "metadata": {},
   "outputs": [],
   "source": [
    "data=rain_data.to_numpy()"
   ]
  },
  {
   "cell_type": "code",
   "execution_count": 38,
   "metadata": {},
   "outputs": [
    {
     "name": "stdout",
     "output_type": "stream",
     "text": [
      "[[1.79000e+01 3.52000e+01 0.00000e+00 ... 1.65000e+01 1.00535e+03\n",
      "  3.50000e+00]\n",
      " [1.84000e+01 2.89000e+01 0.00000e+00 ... 1.90000e+01 1.01250e+03\n",
      "  1.00000e+00]\n",
      " [1.55000e+01 3.41000e+01 0.00000e+00 ... 7.00000e+00 1.01160e+03\n",
      "  1.00000e+00]\n",
      " ...\n",
      " [2.07000e+01 3.28000e+01 0.00000e+00 ... 3.45000e+01 1.01355e+03\n",
      "  0.00000e+00]\n",
      " [1.95000e+01 3.18000e+01 0.00000e+00 ... 6.00000e+01 1.01280e+03\n",
      "  1.00000e+00]\n",
      " [2.02000e+01 3.17000e+01 0.00000e+00 ... 5.25000e+01 1.01180e+03\n",
      "  5.50000e+00]]\n"
     ]
    }
   ],
   "source": [
    "print(data)"
   ]
  },
  {
   "cell_type": "code",
   "execution_count": 39,
   "metadata": {},
   "outputs": [
    {
     "name": "stdout",
     "output_type": "stream",
     "text": [
      "660319\n"
     ]
    }
   ],
   "source": [
    "print(data.size)"
   ]
  },
  {
   "cell_type": "code",
   "execution_count": 40,
   "metadata": {},
   "outputs": [
    {
     "name": "stdout",
     "output_type": "stream",
     "text": [
      "(60029, 11)\n"
     ]
    }
   ],
   "source": [
    "print(data.shape)"
   ]
  },
  {
   "cell_type": "code",
   "execution_count": 41,
   "metadata": {},
   "outputs": [
    {
     "name": "stdout",
     "output_type": "stream",
     "text": [
      "(60029,)\n"
     ]
    }
   ],
   "source": [
    "print(target.shape)"
   ]
  },
  {
   "cell_type": "code",
   "execution_count": 42,
   "metadata": {},
   "outputs": [
    {
     "name": "stdout",
     "output_type": "stream",
     "text": [
      "float64\n"
     ]
    }
   ],
   "source": [
    "print(data.dtype)"
   ]
  },
  {
   "cell_type": "code",
   "execution_count": 43,
   "metadata": {},
   "outputs": [
    {
     "name": "stdout",
     "output_type": "stream",
     "text": [
      "int64\n"
     ]
    }
   ],
   "source": [
    "print(target.dtype)"
   ]
  },
  {
   "cell_type": "markdown",
   "metadata": {},
   "source": [
    "## 13. Spliting the data into training and test data and shuffling them"
   ]
  },
  {
   "cell_type": "code",
   "execution_count": 44,
   "metadata": {},
   "outputs": [],
   "source": [
    "#importing train_test_split method\n",
    "from sklearn.model_selection import train_test_split\n",
    "X_train,X_test,y_train,y_test= train_test_split(data,target,random_state=0)"
   ]
  },
  {
   "cell_type": "code",
   "execution_count": 45,
   "metadata": {},
   "outputs": [
    {
     "name": "stdout",
     "output_type": "stream",
     "text": [
      "X_train shape: (45021, 11)\n"
     ]
    }
   ],
   "source": [
    "#Printing the values\n",
    "print(\"X_train shape: {}\".format(X_train.shape))"
   ]
  },
  {
   "cell_type": "code",
   "execution_count": 46,
   "metadata": {},
   "outputs": [
    {
     "name": "stdout",
     "output_type": "stream",
     "text": [
      "y_train shape: (45021,)\n"
     ]
    }
   ],
   "source": [
    "print(\"y_train shape: {}\".format(y_train.shape))"
   ]
  },
  {
   "cell_type": "code",
   "execution_count": 47,
   "metadata": {},
   "outputs": [
    {
     "name": "stdout",
     "output_type": "stream",
     "text": [
      "X_test shape: (15008, 11)\n"
     ]
    }
   ],
   "source": [
    "print(\"X_test shape: {}\".format(X_test.shape))"
   ]
  },
  {
   "cell_type": "code",
   "execution_count": 48,
   "metadata": {},
   "outputs": [
    {
     "name": "stdout",
     "output_type": "stream",
     "text": [
      "y_test shape: (15008,)\n"
     ]
    }
   ],
   "source": [
    "print(\"y_test shape: {}\".format(y_test.shape))"
   ]
  },
  {
   "cell_type": "markdown",
   "metadata": {},
   "source": [
    "## 14. Using k-nearest neighbors classification algorithm"
   ]
  },
  {
   "cell_type": "code",
   "execution_count": 49,
   "metadata": {},
   "outputs": [],
   "source": [
    "#importing KNeighborsClassifier\n",
    "from sklearn.neighbors import KNeighborsClassifier\n",
    "knn=KNeighborsClassifier(n_neighbors=100)"
   ]
  },
  {
   "cell_type": "code",
   "execution_count": 50,
   "metadata": {},
   "outputs": [
    {
     "data": {
      "text/plain": [
       "KNeighborsClassifier(algorithm='auto', leaf_size=30, metric='minkowski',\n",
       "           metric_params=None, n_jobs=None, n_neighbors=100, p=2,\n",
       "           weights='uniform')"
      ]
     },
     "execution_count": 50,
     "metadata": {},
     "output_type": "execute_result"
    }
   ],
   "source": [
    "#we call the fit method\n",
    "knn.fit(X_train,y_train)"
   ]
  },
  {
   "cell_type": "markdown",
   "metadata": {},
   "source": [
    "## 15.Evaluating the model"
   ]
  },
  {
   "cell_type": "code",
   "execution_count": 51,
   "metadata": {},
   "outputs": [
    {
     "name": "stdout",
     "output_type": "stream",
     "text": [
      "Test set predictions: [1 0 1 ... 0 0 0]\n"
     ]
    }
   ],
   "source": [
    "#We will use the predict method to predict\n",
    "y_pred=knn.predict(X_test)\n",
    "print(\"Test set predictions: {}\".format(y_pred))"
   ]
  },
  {
   "cell_type": "markdown",
   "metadata": {},
   "source": [
    "## 16.Checking Accuracy"
   ]
  },
  {
   "cell_type": "code",
   "execution_count": 52,
   "metadata": {},
   "outputs": [
    {
     "name": "stdout",
     "output_type": "stream",
     "text": [
      "Test set score: 0.855477\n"
     ]
    }
   ],
   "source": [
    "import numpy as np\n",
    "print(\"Test set score: {:2f}\".format(np.mean(y_pred==y_test)))"
   ]
  },
  {
   "cell_type": "markdown",
   "metadata": {},
   "source": [
    "## 17.Making Predictions"
   ]
  },
  {
   "cell_type": "code",
   "execution_count": 53,
   "metadata": {},
   "outputs": [
    {
     "name": "stdout",
     "output_type": "stream",
     "text": [
      "Index(['MinTemp', 'MaxTemp', 'Rainfall', 'Evaporation', 'Sunshine',\n",
      "       'WindGustSpeed', 'RainToday', 'WindSpeed', 'Humidity', 'Pressure',\n",
      "       'Cloud'],\n",
      "      dtype='object')\n",
      "Enter the Minimum Tempreature of the day: 14.7\n",
      "Enter the Maximum Temperature of the day: 30.6\n"
     ]
    }
   ],
   "source": [
    "#Taking Inputs\n",
    "print(rain_data.columns)\n",
    "MinTemp= float(input(\"Enter the Minimum Tempreature of the day: \"))\n",
    "MaxTemp=float(input(\"Enter the Maximum Temperature of the day: \"))"
   ]
  },
  {
   "cell_type": "code",
   "execution_count": 54,
   "metadata": {},
   "outputs": [
    {
     "name": "stdout",
     "output_type": "stream",
     "text": [
      "Enter the amount of Rainfall: 2.3\n",
      "Enter the Evaporation: 0.6\n"
     ]
    }
   ],
   "source": [
    "Rainfall=float(input(\"Enter the amount of Rainfall: \"))\n",
    "Evaporation =float(input(\"Enter the Evaporation: \"))"
   ]
  },
  {
   "cell_type": "code",
   "execution_count": 55,
   "metadata": {},
   "outputs": [
    {
     "name": "stdout",
     "output_type": "stream",
     "text": [
      "Enter the sunshine: 4.8\n",
      "Enter the Speed of the strongest wind gust in the 24 hours to midnight: 48\n"
     ]
    }
   ],
   "source": [
    "Sunshine = float(input(\"Enter the sunshine: \"))\n",
    "WindGustSpeed= int(input(\"Enter the Speed of the strongest wind gust in the 24 hours to midnight: \"))"
   ]
  },
  {
   "cell_type": "code",
   "execution_count": 56,
   "metadata": {},
   "outputs": [
    {
     "name": "stdout",
     "output_type": "stream",
     "text": [
      "Enter whether it rained today or not: (1 for Yes and 0 for No) 1\n",
      "Enter the wind speed: 49\n"
     ]
    }
   ],
   "source": [
    "RainToday= int(input(\"Enter whether it rained today or not: (1 for Yes and 0 for No) \"))\n",
    "WindSpeed= int(input(\"Enter the wind speed: \"))"
   ]
  },
  {
   "cell_type": "code",
   "execution_count": 57,
   "metadata": {},
   "outputs": [
    {
     "name": "stdout",
     "output_type": "stream",
     "text": [
      "Enter the humidity : 6\n",
      "Enter the pressure : 1003.7\n",
      "Enter the fraction of sky covered by cloud: 8.9\n"
     ]
    }
   ],
   "source": [
    "Humidity= int(input(\"Enter the humidity : \"))\n",
    "Pressure= float(input(\"Enter the pressure : \"))\n",
    "Cloud= float(input(\"Enter the fraction of sky covered by cloud: \"))"
   ]
  },
  {
   "cell_type": "code",
   "execution_count": 58,
   "metadata": {},
   "outputs": [
    {
     "name": "stdout",
     "output_type": "stream",
     "text": [
      "[[1.4700e+01 3.0600e+01 2.3000e+00 6.0000e-01 4.8000e+00 4.8000e+01\n",
      "  1.0000e+00 4.9000e+01 6.0000e+00 1.0037e+03 8.9000e+00]]\n"
     ]
    }
   ],
   "source": [
    "X_new= np.array([[MinTemp, MaxTemp, Rainfall, Evaporation, Sunshine, WindGustSpeed, RainToday, WindSpeed, Humidity,Pressure,Cloud]])\n",
    "print(X_new)"
   ]
  },
  {
   "cell_type": "code",
   "execution_count": 59,
   "metadata": {},
   "outputs": [
    {
     "name": "stdout",
     "output_type": "stream",
     "text": [
      "Prediction is: [0]\n",
      "No, it will not rain tomorrow\n"
     ]
    }
   ],
   "source": [
    "#Getting the data in the predict function\n",
    "Prediction=knn.predict(X_new)\n",
    "print(\"Prediction is: {}\".format(Prediction))\n",
    "if Prediction == 0:\n",
    "    print(\"No, it will not rain tomorrow\")\n",
    "if Prediction == 1:\n",
    "    print(\"Yes, it will rain tomorrow\")"
   ]
  },
  {
   "cell_type": "code",
   "execution_count": null,
   "metadata": {},
   "outputs": [],
   "source": []
  }
 ],
 "metadata": {
  "kernelspec": {
   "display_name": "Python 3",
   "language": "python",
   "name": "python3"
  },
  "language_info": {
   "codemirror_mode": {
    "name": "ipython",
    "version": 3
   },
   "file_extension": ".py",
   "mimetype": "text/x-python",
   "name": "python",
   "nbconvert_exporter": "python",
   "pygments_lexer": "ipython3",
   "version": "3.7.3"
  }
 },
 "nbformat": 4,
 "nbformat_minor": 2
}
